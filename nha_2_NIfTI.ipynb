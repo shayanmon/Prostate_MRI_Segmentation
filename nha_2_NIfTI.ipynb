{
 "cells": [
  {
   "cell_type": "code",
   "execution_count": 2,
   "id": "4b05503f-66a2-4f96-a8f0-159fbede5a60",
   "metadata": {},
   "outputs": [
    {
     "name": "stdout",
     "output_type": "stream",
     "text": [
      "Collecting SimpleITK\n",
      "  Downloading simpleitk-2.5.0-cp311-abi3-macosx_11_0_arm64.whl.metadata (7.2 kB)\n",
      "Downloading simpleitk-2.5.0-cp311-abi3-macosx_11_0_arm64.whl (38.5 MB)\n",
      "\u001b[2K   \u001b[90m━━━━━━━━━━━━━━━━━━━━━━━━━━━━━━━━━━━━━━━━\u001b[0m \u001b[32m38.5/38.5 MB\u001b[0m \u001b[31m22.4 MB/s\u001b[0m eta \u001b[36m0:00:00\u001b[0ma \u001b[36m0:00:01\u001b[0m\n",
      "\u001b[?25hInstalling collected packages: SimpleITK\n",
      "Successfully installed SimpleITK-2.5.0\n"
     ]
    }
   ],
   "source": [
    "!pip install SimpleITK"
   ]
  },
  {
   "cell_type": "code",
   "execution_count": 3,
   "id": "ae199ed9-7655-4d1a-8841-494f11a302e2",
   "metadata": {},
   "outputs": [
    {
     "name": "stdout",
     "output_type": "stream",
     "text": [
      "Conversion complete!\n"
     ]
    }
   ],
   "source": [
    "import os\n",
    "import SimpleITK as sitk\n",
    "\n",
    "input_dir = \"picai_public_images_fold0\"\n",
    "output_dir = \"picai_nifti\"\n",
    "\n",
    "os.makedirs(output_dir, exist_ok=True)\n",
    "\n",
    "for case in os.listdir(input_dir):\n",
    "    case_dir = os.path.join(input_dir, case)\n",
    "    if os.path.isdir(case_dir):\n",
    "        for fname in os.listdir(case_dir):\n",
    "            if fname.endswith(\".mha\"):\n",
    "                image_path = os.path.join(case_dir, fname)\n",
    "                image = sitk.ReadImage(image_path)\n",
    "                output_path = os.path.join(output_dir, f\"{case}_{fname.replace('.mha', '.nii.gz')}\")\n",
    "                sitk.WriteImage(image, output_path)\n",
    "\n",
    "print(\"Conversion complete!\")"
   ]
  }
 ],
 "metadata": {
  "kernelspec": {
   "display_name": "Python 3 (ipykernel)",
   "language": "python",
   "name": "python3"
  },
  "language_info": {
   "codemirror_mode": {
    "name": "ipython",
    "version": 3
   },
   "file_extension": ".py",
   "mimetype": "text/x-python",
   "name": "python",
   "nbconvert_exporter": "python",
   "pygments_lexer": "ipython3",
   "version": "3.13.2"
  }
 },
 "nbformat": 4,
 "nbformat_minor": 5
}
